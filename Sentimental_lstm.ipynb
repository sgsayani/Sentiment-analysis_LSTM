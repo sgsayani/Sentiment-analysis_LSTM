{
  "nbformat": 4,
  "nbformat_minor": 0,
  "metadata": {
    "colab": {
      "provenance": [],
      "authorship_tag": "ABX9TyPZzXoiJiRTAoPlBdPVsOiT",
      "include_colab_link": true
    },
    "kernelspec": {
      "name": "python3",
      "display_name": "Python 3"
    },
    "language_info": {
      "name": "python"
    },
    "gpuClass": "standard",
    "accelerator": "GPU"
  },
  "cells": [
    {
      "cell_type": "markdown",
      "metadata": {
        "id": "view-in-github",
        "colab_type": "text"
      },
      "source": [
        "<a href=\"https://colab.research.google.com/github/sgsayani/Sentiment-analysis_LSTM/blob/main/Sentimental_lstm.ipynb\" target=\"_parent\"><img src=\"https://colab.research.google.com/assets/colab-badge.svg\" alt=\"Open In Colab\"/></a>"
      ]
    },
    {
      "cell_type": "code",
      "execution_count": 5,
      "metadata": {
        "id": "2qpGQyWyl2DJ"
      },
      "outputs": [],
      "source": [
        "import numpy as np \n",
        "import pandas as pd \n",
        "import keras.losses\n",
        "from keras.optimizers import SGD\n",
        "from sklearn.feature_extraction.text import CountVectorizer\n",
        "from keras.preprocessing.text import Tokenizer\n",
        "from tensorflow.keras.preprocessing.sequence import pad_sequences\n",
        "from keras.models import Sequential\n",
        "from keras.layers import Dense, Embedding, LSTM, SpatialDropout1D\n",
        "from sklearn.model_selection import train_test_split\n",
        "from tensorflow.python.keras.utils.np_utils import to_categorical\n",
        "import re\n",
        "from keras.backend import clear_session"
      ]
    },
    {
      "cell_type": "code",
      "source": [
        "data = pd.read_csv('train.csv')\n",
        "data =data.dropna()\n",
        "print(data)"
      ],
      "metadata": {
        "colab": {
          "base_uri": "https://localhost:8080/"
        },
        "id": "l2l3lzF7uY61",
        "outputId": "6439b704-693d-4787-c84f-1928c2b0630c"
      },
      "execution_count": null,
      "outputs": [
        {
          "output_type": "stream",
          "name": "stdout",
          "text": [
            "           textID                                               text  \\\n",
            "0      cb774db0d1                I`d have responded, if I were going   \n",
            "1      549e992a42      Sooo SAD I will miss you here in San Diego!!!   \n",
            "2      088c60f138                          my boss is bullying me...   \n",
            "3      9642c003ef                     what interview! leave me alone   \n",
            "4      358bd9e861   Sons of ****, why couldn`t they put them on t...   \n",
            "...           ...                                                ...   \n",
            "27476  4eac33d1c0   wish we could come see u on Denver  husband l...   \n",
            "27477  4f4c4fc327   I`ve wondered about rake to.  The client has ...   \n",
            "27478  f67aae2310   Yay good for both of you. Enjoy the break - y...   \n",
            "27479  ed167662a5                         But it was worth it  ****.   \n",
            "27480  6f7127d9d7     All this flirting going on - The ATG smiles...   \n",
            "\n",
            "                                           selected_text sentiment  \n",
            "0                    I`d have responded, if I were going   neutral  \n",
            "1                                               Sooo SAD  negative  \n",
            "2                                            bullying me  negative  \n",
            "3                                         leave me alone  negative  \n",
            "4                                          Sons of ****,  negative  \n",
            "...                                                  ...       ...  \n",
            "27476                                             d lost  negative  \n",
            "27477                                      , don`t force  negative  \n",
            "27478                          Yay good for both of you.  positive  \n",
            "27479                         But it was worth it  ****.  positive  \n",
            "27480  All this flirting going on - The ATG smiles. Y...   neutral  \n",
            "\n",
            "[27480 rows x 4 columns]\n"
          ]
        }
      ]
    },
    {
      "cell_type": "code",
      "source": [
        "data.isnull().sum()"
      ],
      "metadata": {
        "id": "XifcK2wqurIg",
        "colab": {
          "base_uri": "https://localhost:8080/"
        },
        "outputId": "e068d922-f5d8-408e-e59a-728627eaab98"
      },
      "execution_count": null,
      "outputs": [
        {
          "output_type": "execute_result",
          "data": {
            "text/plain": [
              "textID           0\n",
              "text             0\n",
              "selected_text    0\n",
              "sentiment        0\n",
              "dtype: int64"
            ]
          },
          "metadata": {},
          "execution_count": 4
        }
      ]
    },
    {
      "cell_type": "code",
      "source": [
        "data.head() "
      ],
      "metadata": {
        "colab": {
          "base_uri": "https://localhost:8080/",
          "height": 206
        },
        "id": "qZG774RW0ZET",
        "outputId": "805c8a9d-4925-4df5-bb72-b8ca08b94eb4"
      },
      "execution_count": null,
      "outputs": [
        {
          "output_type": "execute_result",
          "data": {
            "text/plain": [
              "       textID                                               text  \\\n",
              "0  cb774db0d1                I`d have responded, if I were going   \n",
              "1  549e992a42      Sooo SAD I will miss you here in San Diego!!!   \n",
              "2  088c60f138                          my boss is bullying me...   \n",
              "3  9642c003ef                     what interview! leave me alone   \n",
              "4  358bd9e861   Sons of ****, why couldn`t they put them on t...   \n",
              "\n",
              "                         selected_text sentiment  \n",
              "0  I`d have responded, if I were going   neutral  \n",
              "1                             Sooo SAD  negative  \n",
              "2                          bullying me  negative  \n",
              "3                       leave me alone  negative  \n",
              "4                        Sons of ****,  negative  "
            ],
            "text/html": [
              "\n",
              "  <div id=\"df-7e5feb89-89f0-41c5-acd7-b3160f22ab7b\">\n",
              "    <div class=\"colab-df-container\">\n",
              "      <div>\n",
              "<style scoped>\n",
              "    .dataframe tbody tr th:only-of-type {\n",
              "        vertical-align: middle;\n",
              "    }\n",
              "\n",
              "    .dataframe tbody tr th {\n",
              "        vertical-align: top;\n",
              "    }\n",
              "\n",
              "    .dataframe thead th {\n",
              "        text-align: right;\n",
              "    }\n",
              "</style>\n",
              "<table border=\"1\" class=\"dataframe\">\n",
              "  <thead>\n",
              "    <tr style=\"text-align: right;\">\n",
              "      <th></th>\n",
              "      <th>textID</th>\n",
              "      <th>text</th>\n",
              "      <th>selected_text</th>\n",
              "      <th>sentiment</th>\n",
              "    </tr>\n",
              "  </thead>\n",
              "  <tbody>\n",
              "    <tr>\n",
              "      <th>0</th>\n",
              "      <td>cb774db0d1</td>\n",
              "      <td>I`d have responded, if I were going</td>\n",
              "      <td>I`d have responded, if I were going</td>\n",
              "      <td>neutral</td>\n",
              "    </tr>\n",
              "    <tr>\n",
              "      <th>1</th>\n",
              "      <td>549e992a42</td>\n",
              "      <td>Sooo SAD I will miss you here in San Diego!!!</td>\n",
              "      <td>Sooo SAD</td>\n",
              "      <td>negative</td>\n",
              "    </tr>\n",
              "    <tr>\n",
              "      <th>2</th>\n",
              "      <td>088c60f138</td>\n",
              "      <td>my boss is bullying me...</td>\n",
              "      <td>bullying me</td>\n",
              "      <td>negative</td>\n",
              "    </tr>\n",
              "    <tr>\n",
              "      <th>3</th>\n",
              "      <td>9642c003ef</td>\n",
              "      <td>what interview! leave me alone</td>\n",
              "      <td>leave me alone</td>\n",
              "      <td>negative</td>\n",
              "    </tr>\n",
              "    <tr>\n",
              "      <th>4</th>\n",
              "      <td>358bd9e861</td>\n",
              "      <td>Sons of ****, why couldn`t they put them on t...</td>\n",
              "      <td>Sons of ****,</td>\n",
              "      <td>negative</td>\n",
              "    </tr>\n",
              "  </tbody>\n",
              "</table>\n",
              "</div>\n",
              "      <button class=\"colab-df-convert\" onclick=\"convertToInteractive('df-7e5feb89-89f0-41c5-acd7-b3160f22ab7b')\"\n",
              "              title=\"Convert this dataframe to an interactive table.\"\n",
              "              style=\"display:none;\">\n",
              "        \n",
              "  <svg xmlns=\"http://www.w3.org/2000/svg\" height=\"24px\"viewBox=\"0 0 24 24\"\n",
              "       width=\"24px\">\n",
              "    <path d=\"M0 0h24v24H0V0z\" fill=\"none\"/>\n",
              "    <path d=\"M18.56 5.44l.94 2.06.94-2.06 2.06-.94-2.06-.94-.94-2.06-.94 2.06-2.06.94zm-11 1L8.5 8.5l.94-2.06 2.06-.94-2.06-.94L8.5 2.5l-.94 2.06-2.06.94zm10 10l.94 2.06.94-2.06 2.06-.94-2.06-.94-.94-2.06-.94 2.06-2.06.94z\"/><path d=\"M17.41 7.96l-1.37-1.37c-.4-.4-.92-.59-1.43-.59-.52 0-1.04.2-1.43.59L10.3 9.45l-7.72 7.72c-.78.78-.78 2.05 0 2.83L4 21.41c.39.39.9.59 1.41.59.51 0 1.02-.2 1.41-.59l7.78-7.78 2.81-2.81c.8-.78.8-2.07 0-2.86zM5.41 20L4 18.59l7.72-7.72 1.47 1.35L5.41 20z\"/>\n",
              "  </svg>\n",
              "      </button>\n",
              "      \n",
              "  <style>\n",
              "    .colab-df-container {\n",
              "      display:flex;\n",
              "      flex-wrap:wrap;\n",
              "      gap: 12px;\n",
              "    }\n",
              "\n",
              "    .colab-df-convert {\n",
              "      background-color: #E8F0FE;\n",
              "      border: none;\n",
              "      border-radius: 50%;\n",
              "      cursor: pointer;\n",
              "      display: none;\n",
              "      fill: #1967D2;\n",
              "      height: 32px;\n",
              "      padding: 0 0 0 0;\n",
              "      width: 32px;\n",
              "    }\n",
              "\n",
              "    .colab-df-convert:hover {\n",
              "      background-color: #E2EBFA;\n",
              "      box-shadow: 0px 1px 2px rgba(60, 64, 67, 0.3), 0px 1px 3px 1px rgba(60, 64, 67, 0.15);\n",
              "      fill: #174EA6;\n",
              "    }\n",
              "\n",
              "    [theme=dark] .colab-df-convert {\n",
              "      background-color: #3B4455;\n",
              "      fill: #D2E3FC;\n",
              "    }\n",
              "\n",
              "    [theme=dark] .colab-df-convert:hover {\n",
              "      background-color: #434B5C;\n",
              "      box-shadow: 0px 1px 3px 1px rgba(0, 0, 0, 0.15);\n",
              "      filter: drop-shadow(0px 1px 2px rgba(0, 0, 0, 0.3));\n",
              "      fill: #FFFFFF;\n",
              "    }\n",
              "  </style>\n",
              "\n",
              "      <script>\n",
              "        const buttonEl =\n",
              "          document.querySelector('#df-7e5feb89-89f0-41c5-acd7-b3160f22ab7b button.colab-df-convert');\n",
              "        buttonEl.style.display =\n",
              "          google.colab.kernel.accessAllowed ? 'block' : 'none';\n",
              "\n",
              "        async function convertToInteractive(key) {\n",
              "          const element = document.querySelector('#df-7e5feb89-89f0-41c5-acd7-b3160f22ab7b');\n",
              "          const dataTable =\n",
              "            await google.colab.kernel.invokeFunction('convertToInteractive',\n",
              "                                                     [key], {});\n",
              "          if (!dataTable) return;\n",
              "\n",
              "          const docLinkHtml = 'Like what you see? Visit the ' +\n",
              "            '<a target=\"_blank\" href=https://colab.research.google.com/notebooks/data_table.ipynb>data table notebook</a>'\n",
              "            + ' to learn more about interactive tables.';\n",
              "          element.innerHTML = '';\n",
              "          dataTable['output_type'] = 'display_data';\n",
              "          await google.colab.output.renderOutput(dataTable, element);\n",
              "          const docLink = document.createElement('div');\n",
              "          docLink.innerHTML = docLinkHtml;\n",
              "          element.appendChild(docLink);\n",
              "        }\n",
              "      </script>\n",
              "    </div>\n",
              "  </div>\n",
              "  "
            ]
          },
          "metadata": {},
          "execution_count": 5
        }
      ]
    },
    {
      "cell_type": "code",
      "source": [
        "#list1=[\"textID\",\"selected_text\"]\n",
        "#features = data[list1]\n",
        "#print(features)"
      ],
      "metadata": {
        "colab": {
          "base_uri": "https://localhost:8080/"
        },
        "id": "qShNpazhz9oJ",
        "outputId": "14f156c3-987c-47b1-ff7b-933c6183b2b8"
      },
      "execution_count": null,
      "outputs": [
        {
          "output_type": "stream",
          "name": "stdout",
          "text": [
            "           textID                                      selected_text\n",
            "0      cb774db0d1                I`d have responded, if I were going\n",
            "1      549e992a42                                           Sooo SAD\n",
            "2      088c60f138                                        bullying me\n",
            "3      9642c003ef                                     leave me alone\n",
            "4      358bd9e861                                      Sons of ****,\n",
            "...           ...                                                ...\n",
            "27476  4eac33d1c0                                             d lost\n",
            "27477  4f4c4fc327                                      , don`t force\n",
            "27478  f67aae2310                          Yay good for both of you.\n",
            "27479  ed167662a5                         But it was worth it  ****.\n",
            "27480  6f7127d9d7  All this flirting going on - The ATG smiles. Y...\n",
            "\n",
            "[27480 rows x 2 columns]\n"
          ]
        }
      ]
    },
    {
      "cell_type": "code",
      "source": [
        "#class1=data[\"sentiment\"]\n",
        "#print(class1)"
      ],
      "metadata": {
        "colab": {
          "base_uri": "https://localhost:8080/"
        },
        "id": "g111qveE0lRE",
        "outputId": "447b3f1e-a9fa-4356-9aa5-a667196b742d"
      },
      "execution_count": null,
      "outputs": [
        {
          "output_type": "stream",
          "name": "stdout",
          "text": [
            "0         neutral\n",
            "1        negative\n",
            "2        negative\n",
            "3        negative\n",
            "4        negative\n",
            "           ...   \n",
            "27476    negative\n",
            "27477    negative\n",
            "27478    positive\n",
            "27479    positive\n",
            "27480     neutral\n",
            "Name: sentiment, Length: 27480, dtype: object\n"
          ]
        }
      ]
    },
    {
      "cell_type": "markdown",
      "source": [
        "\n",
        "**START FROM HERE**"
      ],
      "metadata": {
        "id": "H9PVPSwh2EjW"
      }
    },
    {
      "cell_type": "code",
      "source": [
        "data = pd.read_csv('train.csv')\n",
        "# Keeping only the neccessary columns\n",
        "data = data[['selected_text','sentiment']]\n",
        "print(data)"
      ],
      "metadata": {
        "colab": {
          "base_uri": "https://localhost:8080/"
        },
        "id": "wmRV_0_O0vvb",
        "outputId": "3fafe50c-b175-4033-b535-73eb63241b30"
      },
      "execution_count": 6,
      "outputs": [
        {
          "output_type": "stream",
          "name": "stdout",
          "text": [
            "                                           selected_text sentiment\n",
            "0                    I`d have responded, if I were going   neutral\n",
            "1                                               Sooo SAD  negative\n",
            "2                                            bullying me  negative\n",
            "3                                         leave me alone  negative\n",
            "4                                          Sons of ****,  negative\n",
            "...                                                  ...       ...\n",
            "27476                                             d lost  negative\n",
            "27477                                      , don`t force  negative\n",
            "27478                          Yay good for both of you.  positive\n",
            "27479                         But it was worth it  ****.  positive\n",
            "27480  All this flirting going on - The ATG smiles. Y...   neutral\n",
            "\n",
            "[27481 rows x 2 columns]\n"
          ]
        }
      ]
    },
    {
      "cell_type": "code",
      "source": [
        "data = data[data.sentiment != \"Neutral\"]\n",
        "data['selected_text'] = data['selected_text'].astype(str).apply(lambda x: x.lower())\n",
        "data['selected_text'] = data['selected_text'].apply((lambda x:re.sub('[^a-zA-z0-9\\s]','',x)))\n",
        "\n",
        " \n",
        "print(data[ data['sentiment']=='positive'].size)\n",
        "print(data[ data['sentiment']=='negative'].size)\n",
        "\n",
        "for idx,row in data.iterrows():\n",
        "  row[0]=row[0].replace('rt',' ')\n",
        "max_features = 20000\n",
        "tokenizer = Tokenizer(num_words = max_features,split=' ')\n",
        "tokenizer.fit_on_texts(data['selected_text'].values)\n",
        "x=tokenizer.texts_to_sequences(data['selected_text'].values)\n",
        "x=pad_sequences(x)"
      ],
      "metadata": {
        "colab": {
          "base_uri": "https://localhost:8080/"
        },
        "id": "okD7INuG2jN1",
        "outputId": "99a96d1b-267f-476d-db6c-6d09e2a3fc5f"
      },
      "execution_count": 7,
      "outputs": [
        {
          "output_type": "stream",
          "name": "stdout",
          "text": [
            "17164\n",
            "15562\n"
          ]
        }
      ]
    },
    {
      "cell_type": "code",
      "source": [
        "y=pd.get_dummies(data['sentiment']).values\n",
        "\n",
        "x_train,x_test,y_train,y_test=train_test_split(x,y,test_size=0.1,random_state=42)\n",
        "clear_session()\n",
        "print(x_train.shape, y_train.shape)\n",
        "print(x_test.shape, y_test.shape)\n"
      ],
      "metadata": {
        "colab": {
          "base_uri": "https://localhost:8080/"
        },
        "id": "0XG5mqpREfKr",
        "outputId": "c8c95de8-dcb2-41b2-9062-92320d011502"
      },
      "execution_count": 8,
      "outputs": [
        {
          "output_type": "stream",
          "name": "stdout",
          "text": [
            "(24732, 34) (24732, 3)\n",
            "(2749, 34) (2749, 3)\n"
          ]
        }
      ]
    },
    {
      "cell_type": "code",
      "source": [
        "embed_dim = 128\n",
        "lstm_out = 196\n",
        "\n",
        "model = Sequential()\n",
        "\n",
        "model.add(Embedding(max_features,embed_dim,input_length=x.shape[1]))\n",
        "\n",
        "model.add(SpatialDropout1D(0.4))\n",
        "\n",
        "model.add(LSTM(lstm_out,dropout=0.2,recurrent_dropout=0.2))\n",
        "\n",
        "model.add(Dense(3,activation='softmax'))\n",
        "#model.compile(loss='categorical_crossentropy', optimizer=SGD, metrics=['accuracy'])\n",
        "\n",
        "model.compile(loss='categorical_crossentropy',optimizer='adam',metrics=['accuracy'])\n",
        "#model.compile(loss='categorical_crossentropy', optimizer='adam', metrics=['accuracy'])\n",
        "\n",
        "model.summary()\n"
      ],
      "metadata": {
        "colab": {
          "base_uri": "https://localhost:8080/"
        },
        "id": "BlBo1zOQ7Dpk",
        "outputId": "38e93e98-4873-4388-ac0a-46a9ff82a742"
      },
      "execution_count": 9,
      "outputs": [
        {
          "output_type": "stream",
          "name": "stderr",
          "text": [
            "WARNING:tensorflow:Layer lstm will not use cuDNN kernels since it doesn't meet the criteria. It will use a generic GPU kernel as fallback when running on GPU.\n"
          ]
        },
        {
          "output_type": "stream",
          "name": "stdout",
          "text": [
            "Model: \"sequential\"\n",
            "_________________________________________________________________\n",
            " Layer (type)                Output Shape              Param #   \n",
            "=================================================================\n",
            " embedding (Embedding)       (None, 34, 128)           2560000   \n",
            "                                                                 \n",
            " spatial_dropout1d (SpatialD  (None, 34, 128)          0         \n",
            " ropout1D)                                                       \n",
            "                                                                 \n",
            " lstm (LSTM)                 (None, 196)               254800    \n",
            "                                                                 \n",
            " dense (Dense)               (None, 3)                 591       \n",
            "                                                                 \n",
            "=================================================================\n",
            "Total params: 2,815,391\n",
            "Trainable params: 2,815,391\n",
            "Non-trainable params: 0\n",
            "_________________________________________________________________\n"
          ]
        }
      ]
    },
    {
      "cell_type": "code",
      "source": [
        "batch_size = 32\n",
        "model.fit(x_train, y_train, epochs = 10, batch_size=batch_size, verbose = 2)"
      ],
      "metadata": {
        "colab": {
          "base_uri": "https://localhost:8080/"
        },
        "id": "UNbBkVMZAPLf",
        "outputId": "238034c8-776c-4810-bb07-5839589ce1de"
      },
      "execution_count": 10,
      "outputs": [
        {
          "output_type": "stream",
          "name": "stdout",
          "text": [
            "Epoch 1/10\n",
            "773/773 - 139s - loss: 0.5731 - accuracy: 0.7674 - 139s/epoch - 180ms/step\n",
            "Epoch 2/10\n",
            "773/773 - 116s - loss: 0.3596 - accuracy: 0.8713 - 116s/epoch - 150ms/step\n",
            "Epoch 3/10\n",
            "773/773 - 115s - loss: 0.2672 - accuracy: 0.9067 - 115s/epoch - 148ms/step\n",
            "Epoch 4/10\n",
            "773/773 - 112s - loss: 0.2165 - accuracy: 0.9260 - 112s/epoch - 145ms/step\n",
            "Epoch 5/10\n",
            "773/773 - 112s - loss: 0.1792 - accuracy: 0.9394 - 112s/epoch - 145ms/step\n",
            "Epoch 6/10\n",
            "773/773 - 113s - loss: 0.1521 - accuracy: 0.9475 - 113s/epoch - 147ms/step\n",
            "Epoch 7/10\n",
            "773/773 - 112s - loss: 0.1286 - accuracy: 0.9550 - 112s/epoch - 144ms/step\n",
            "Epoch 8/10\n",
            "773/773 - 112s - loss: 0.1120 - accuracy: 0.9622 - 112s/epoch - 145ms/step\n",
            "Epoch 9/10\n",
            "773/773 - 112s - loss: 0.1006 - accuracy: 0.9660 - 112s/epoch - 145ms/step\n",
            "Epoch 10/10\n",
            "773/773 - 114s - loss: 0.0879 - accuracy: 0.9699 - 114s/epoch - 148ms/step\n"
          ]
        },
        {
          "output_type": "execute_result",
          "data": {
            "text/plain": [
              "<keras.callbacks.History at 0x7f8dc29ce8b0>"
            ]
          },
          "metadata": {},
          "execution_count": 10
        }
      ]
    },
    {
      "cell_type": "code",
      "source": [
        "model.fit(x_test, y_test, epochs = 10, batch_size=batch_size, verbose = 2)"
      ],
      "metadata": {
        "id": "YNLo48twJZSB"
      },
      "execution_count": null,
      "outputs": []
    },
    {
      "cell_type": "code",
      "source": [
        "validation_size = 500\n",
        "\n",
        "x_validate = x_test[-validation_size:]\n",
        "y_validate = y_test[-validation_size:]\n",
        "x_test = x_test[:-validation_size]\n",
        "y_test = y_test[:-validation_size]\n",
        "score,acc = model.evaluate(x_test, y_test, verbose = 2, batch_size = batch_size)"
      ],
      "metadata": {
        "colab": {
          "base_uri": "https://localhost:8080/"
        },
        "id": "74JtcSNg3IsG",
        "outputId": "3c12d7aa-a7ce-493a-a58f-bf23a4590bbf"
      },
      "execution_count": 11,
      "outputs": [
        {
          "output_type": "stream",
          "name": "stdout",
          "text": [
            "71/71 - 1s - loss: 0.6694 - accuracy: 0.8315 - 1s/epoch - 16ms/step\n"
          ]
        }
      ]
    }
  ]
}